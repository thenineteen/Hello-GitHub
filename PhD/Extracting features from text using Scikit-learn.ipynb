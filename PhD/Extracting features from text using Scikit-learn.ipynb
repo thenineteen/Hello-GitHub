{
 "cells": [
  {
   "cell_type": "markdown",
   "metadata": {},
   "source": [
    "## Marvasti\n",
    "# This is quick and dirty NLPreprocessing for the Epilepsy pdfs\n",
    "# 6/7/2018\n",
    "\n",
    "\n",
    "# Objectives\n",
    "# 1. load pdfs into corpus [/] 19/8/18\n",
    "# 2. CountVectorizer vs tf-idf and normalise matrix []\n",
    "# 3. feature selection: a priori dictionary or analyser []\n",
    "# 4. save to GitHub / backup []\n"
   ]
  },
  {
   "cell_type": "code",
   "execution_count": 21,
   "metadata": {
    "collapsed": true
   },
   "outputs": [
    {
     "name": "stdout",
     "output_type": "stream",
     "text": [
      "hello phd!\n"
     ]
    }
   ],
   "source": [
    "print ('hello phd!')\n",
    "\n",
    "#each pdf needs to be loaded here under corpus list\n",
    "#check list is best way to have documents ?{}\n",
    "\n",
    "import numpy as np\n"
   ]
  },
  {
   "cell_type": "code",
   "execution_count": 3,
   "metadata": {
    "collapsed": true
   },
   "outputs": [],
   "source": [
    "\n",
    "\n"
   ]
  },
  {
   "cell_type": "markdown",
   "metadata": {},
   "source": [
    "# Objective 1: Load all PDFs in directory\n",
    "## PyPDF reader\n"
   ]
  },
  {
   "cell_type": "code",
   "execution_count": null,
   "metadata": {
    "collapsed": true
   },
   "outputs": [],
   "source": [
    "\n",
    "#PDF reader module\n",
    "import PyPDF2\n",
    "    #getFormTextFields(): works as pdf form reader but doesn't read the drop down menus or tick boxes  \n",
    "    #whereas getFields() gets all the data but needs cleaning up\n",
    "    \n",
    "   \n",
    "pdf_file = open(\"C:/ali's code/Python ali/PDF_form_example_1.pdf\", \"rb\")\n",
    "    read_pdf = PyPDF2.PdfFileReader(pdf_file)\n",
    "    \n",
    "        #number_of_pages = read_pdf.getNumPages()\n",
    "        #print ('number of pages =', number_of_pages) \n",
    "        \n",
    "    pdf_form_data1 = read_pdf.getFields()    \n",
    "    print (\"\\n\\n\\n.getFields()\", pdf_form_data1)\n",
    "pdf_file.close()    "
   ]
  },
  {
   "cell_type": "code",
   "execution_count": 4,
   "metadata": {
    "collapsed": true
   },
   "outputs": [],
   "source": [
    "from pathlib import *\n",
    "\n",
    "dir_path = Path(\"C:/ali's code/Python ali/\")\n",
    "pdf_files = list(dir_path.glob('*.pdf'))  # convert result to a list\n",
    "\n",
    "\n",
    "n=0\n",
    "for pdffile in pdf_files:\n",
    "    n += 1\n",
    "    \n",
    "    pdf_form_data = \"pdf_form_data\" + str(n)\n",
    " \n",
    "    pdf_file = open(str(pdffile), \"rb\")\n",
    "    read_pdf = PyPDF2.PdfFileReader(pdf_file)\n",
    "    pdf_form_data = read_pdf.getFields()    \n",
    "    print (\"\\n\\n\\n.getFields()\\n\", pdffile,\"\\n\", pdf_form_data)\n",
    "\n",
    "    pdf_file.close() \n",
    "\n",
    "    \n",
    "corpus = [pdf_form_data1, pdf_form_data2]\n",
    "\n",
    "\n",
    "\n"
   ]
  },
  {
   "cell_type": "markdown",
   "metadata": {},
   "source": [
    "## 2. NLP using sklearn"
   ]
  },
  {
   "cell_type": "code",
   "execution_count": null,
   "metadata": {
    "collapsed": true
   },
   "outputs": [],
   "source": [
    "#Bag of Words method (NLP) using the feature_extraction module in sklearn\n",
    "\n",
    "from sklearn.feature_extraction.text import CountVectorizer\n",
    "    #import sklearn.feature_extraction as skl\n",
    "    #vectorizer = skl.text.CountVectorizer()"
   ]
  },
  {
   "cell_type": "code",
   "execution_count": 5,
   "metadata": {
    "collapsed": true
   },
   "outputs": [
    {
     "data": {
      "text/plain": [
       "array([[ 1,  1,  1,  4,  0,  0,  0,  0,  1,  1,  0,  1,  0,  0,  0,  0,  0,\n",
       "         0,  0,  0,  1,  0,  0,  0,  0,  1,  0,  1,  0,  0,  0,  0,  0,  3,\n",
       "         3,  1,  2,  1,  1,  2,  1,  1,  0,  0,  0,  0,  0,  1,  1,  0,  0,\n",
       "         0,  0,  0,  0,  0,  0,  0,  0,  0,  0,  0,  0,  0,  0,  0,  0,  0,\n",
       "         0,  0,  0,  0,  0,  0,  0,  0,  1,  0,  0,  0,  0,  2,  0,  0,  0,\n",
       "         0,  0,  0,  0,  0,  0,  0,  0,  0,  0,  0,  0,  0,  0,  0,  0,  0,\n",
       "         0,  0,  0,  0,  0,  1,  0,  0,  0,  0,  0,  0,  0,  0,  0,  0,  1,\n",
       "         1,  1,  3,  1,  1,  0,  0,  0,  1,  1,  0,  0,  0,  0,  2,  9,  0,\n",
       "         1,  0,  1,  1,  3,  1,  0,  1,  0,  1,  1,  0,  1,  1,  1,  0,  0,\n",
       "         0,  1,  1,  0,  0,  0,  0,  0,  4,  2,  0,  0,  1,  1,  1,  3,  3,\n",
       "         3,  1,  1,  0,  2,  0,  9,  1,  1,  1,  4,  1,  0,  0,  0,  1,  2,\n",
       "         1,  1,  0,  0,  1,  1,  1,  1,  1,  0,  1,  0,  0,  0,  0,  1,  1,\n",
       "         0,  1,  1,  1,  2,  0,  1,  3,  2,  1,  2,  1,  6,  0,  1,  6,  3,\n",
       "         1,  0,  0,  1,  0,  0,  0,  1,  0,  0,  1,  0,  1,  0,  1,  1,  1,\n",
       "         2,  0,  0,  0,  1,  1,  0,  1,  0,  1,  2,  1,  0,  0,  1,  1,  0,\n",
       "         1,  1,  1,  1,  1,  0,  1,  0,  3,  5,  0,  0,  0,  0,  1,  0,  0,\n",
       "         0,  1,  1,  1,  0,  1,  1,  0,  0,  1,  2,  2,  0,  1,  1,  0,  0,\n",
       "         0, 10,  0,  0,  4,  2,  0,  1,  0,  1,  0,  0,  0,  1,  0,  0,  0,\n",
       "         0,  1,  0,  2,  2,  1,  1,  0,  0,  0,  0,  1,  0,  0,  0,  1,  0,\n",
       "         1,  0,  0,  0,  2,  0,  1,  0,  0,  1,  1,  1,  1,  1,  1,  0,  0,\n",
       "         0,  1,  0,  1,  0,  0,  1,  1,  1,  1,  0,  1,  0,  1,  1,  2,  2,\n",
       "         1,  0,  0,  1,  0,  1,  1,  1,  1,  0,  0,  1,  0,  1, 16,  1,  2,\n",
       "         0, 11,  0,  0,  1,  0,  1,  2,  1,  2,  1,  1,  2,  1,  5,  3,  1,\n",
       "         1,  1,  0,  2,  4,  1,  3,  2,  2,  1,  1,  1],\n",
       "       [ 0,  0,  0,  0,  1,  1,  1,  1,  0,  0,  1,  0,  1,  1,  1,  1,  1,\n",
       "         1,  1,  1,  1,  1,  1,  1,  1,  0,  1,  0,  1,  1,  1,  7,  1,  0,\n",
       "         0,  0,  0,  0,  0,  0,  0,  1,  1,  1,  1,  1,  1,  0,  0,  1,  1,\n",
       "         1,  1,  1,  1,  1,  1,  1,  1,  1,  1,  1,  1,  1,  1,  1,  1,  1,\n",
       "         1,  1,  1,  1,  1,  1,  1,  1,  0,  1,  1,  1,  1,  0,  1,  1,  1,\n",
       "         1,  1,  1,  1,  1,  1,  1,  1,  1,  1,  1,  1,  1,  1,  1,  1,  1,\n",
       "         1,  1,  1,  1,  1,  0,  1,  1,  1,  1,  1,  1,  1,  1,  1,  1,  0,\n",
       "         0,  0,  0,  0,  0,  1,  1,  1,  0,  0,  1,  1,  2,  1,  0,  8,  1,\n",
       "         0,  8,  2,  0,  0,  0,  1,  0,  1,  0,  0,  1,  0,  0,  0,  2,  1,\n",
       "         2,  0,  0,  1,  1,  2,  8,  1,  0,  0,  3,  1,  0,  0,  0,  0,  0,\n",
       "         0,  0,  0,  1,  0,  1,  0,  0,  0,  0,  0,  0,  4,  4,  1,  0,  0,\n",
       "         0,  0,  1,  1,  0,  0,  0,  0,  0,  1,  0,  1,  1,  1,  3,  0,  0,\n",
       "         1,  0,  0,  0,  0,  1,  0,  0,  0,  0,  0,  0,  0,  1,  0,  0,  1,\n",
       "         0,  1,  5,  0,  2,  1,  1,  0,  2,  2,  0,  5,  0,  1,  0,  0,  0,\n",
       "         0,  1,  1,  1,  0,  0,  1,  0,  1,  0,  0,  0,  1,  2,  0,  0,  1,\n",
       "         0,  0,  0,  0,  0,  1,  0,  2,  0,  0,  1,  7, 16,  1,  0,  3,  1,\n",
       "         1,  0,  0,  0,  1,  1,  2,  1,  1,  0,  0,  0,  1,  0,  0,  1,  2,\n",
       "         1,  0,  1,  2,  0,  0,  2,  0,  2,  0,  1,  1,  2,  0,  4,  1,  1,\n",
       "         1,  0,  3,  0,  0,  0,  0,  1,  1,  2,  1,  0,  1,  2,  1,  0,  1,\n",
       "         0,  1,  4,  1,  0,  2,  0,  2,  1,  0,  0,  0,  0,  0,  0,  1,  1,\n",
       "         1,  0,  1,  0,  8,  1,  0,  0,  0,  0,  1,  0,  1,  0,  0,  0,  0,\n",
       "         0,  1,  3,  0,  1,  0,  0,  0,  0,  6,  2,  0,  1,  0,  0,  0,  0,\n",
       "         1,  0,  1,  1,  0,  1,  0,  0,  0,  0,  0,  1,  0,  0,  0,  0,  0,\n",
       "         0,  0,  2,  0,  0,  0,  0,  0,  0,  0,  0,  0]], dtype=int64)"
      ]
     },
     "execution_count": 5,
     "metadata": {},
     "output_type": "execute_result"
    }
   ],
   "source": [
    "\n",
    "X = CountVectorizer().fit_transform(corpus)\n",
    "X.toarray()"
   ]
  },
  {
   "cell_type": "code",
   "execution_count": 47,
   "metadata": {
    "collapsed": true
   },
   "outputs": [
    {
     "name": "stdout",
     "output_type": "stream",
     "text": [
      "[[ 1  1  1  4  0  0  0  0  1  1  0  1  0  0  0  0  0  0  0  0  1  0  0  0\n",
      "   0  1  0  1  0  0  0  0  0  3  3  1  2  1  1  2  1  1  0  0  0  0  0  1\n",
      "   1  0  0  0  0  0  0  0  0  0  0  0  0  0  0  0  0  0  0  0  0  0  0  0\n",
      "   0  0  0  0  1  0  0  0  0  2  0  0  0  0  0  0  0  0  0  0  0  0  0  0\n",
      "   0  0  0  0  0  0  0  0  0  0  0  1  0  0  0  0  0  0  0  0  0  0  1  1\n",
      "   1  3  1  1  0  0  0  1  1  0  0  0  0  2  9  0  1  0  1  1  3  1  0  1\n",
      "   0  1  1  0  1  1  1  0  0  0  1  1  0  0  0  0  0  4  2  0  0  1  1  1\n",
      "   3  3  3  1  1  0  2  0  9  1  1  1  4  1  0  0  0  1  2  1  1  0  0  1\n",
      "   1  1  1  1  0  1  0  0  0  0  1  1  0  1  1  1  2  0  1  3  2  1  2  1\n",
      "   6  0  1  6  3  1  0  0  1  0  0  0  1  0  0  1  0  1  0  1  1  1  2  0\n",
      "   0  0  1  1  0  1  0  1  2  1  0  0  1  1  0  1  1  1  1  1  0  1  0  3\n",
      "   5  0  0  0  0  1  0  0  0  1  1  1  0  1  1  0  0  1  2  2  0  1  1  0\n",
      "   0  0 10  0  0  4  2  0  1  0  1  0  0  0  1  0  0  0  0  1  0  2  2  1\n",
      "   1  0  0  0  0  1  0  0  0  1  0  1  0  0  0  2  0  1  0  0  1  1  1  1\n",
      "   1  1  0  0  0  1  0  1  0  0  1  1  1  1  0  1  0  1  1  2  2  1  0  0\n",
      "   1  0  1  1  1  1  0  0  1  0  1 16  1  2  0 11  0  0  1  0  1  2  1  2\n",
      "   1  1  2  1  5  3  1  1  1  0  2  4  1  3  2  2  1  1  1]\n",
      " [ 0  0  0  0  1  1  1  1  0  0  1  0  1  1  1  1  1  1  1  1  1  1  1  1\n",
      "   1  0  1  0  1  1  1  7  1  0  0  0  0  0  0  0  0  1  1  1  1  1  1  0\n",
      "   0  1  1  1  1  1  1  1  1  1  1  1  1  1  1  1  1  1  1  1  1  1  1  1\n",
      "   1  1  1  1  0  1  1  1  1  0  1  1  1  1  1  1  1  1  1  1  1  1  1  1\n",
      "   1  1  1  1  1  1  1  1  1  1  1  0  1  1  1  1  1  1  1  1  1  1  0  0\n",
      "   0  0  0  0  1  1  1  0  0  1  1  2  1  0  8  1  0  8  2  0  0  0  1  0\n",
      "   1  0  0  1  0  0  0  2  1  2  0  0  1  1  2  8  1  0  0  3  1  0  0  0\n",
      "   0  0  0  0  0  1  0  1  0  0  0  0  0  0  4  4  1  0  0  0  0  1  1  0\n",
      "   0  0  0  0  1  0  1  1  1  3  0  0  1  0  0  0  0  1  0  0  0  0  0  0\n",
      "   0  1  0  0  1  0  1  5  0  2  1  1  0  2  2  0  5  0  1  0  0  0  0  1\n",
      "   1  1  0  0  1  0  1  0  0  0  1  2  0  0  1  0  0  0  0  0  1  0  2  0\n",
      "   0  1  7 16  1  0  3  1  1  0  0  0  1  1  2  1  1  0  0  0  1  0  0  1\n",
      "   2  1  0  1  2  0  0  2  0  2  0  1  1  2  0  4  1  1  1  0  3  0  0  0\n",
      "   0  1  1  2  1  0  1  2  1  0  1  0  1  4  1  0  2  0  2  1  0  0  0  0\n",
      "   0  0  1  1  1  0  1  0  8  1  0  0  0  0  1  0  1  0  0  0  0  0  1  3\n",
      "   0  1  0  0  0  0  6  2  0  1  0  0  0  0  1  0  1  1  0  1  0  0  0  0\n",
      "   0  1  0  0  0  0  0  0  0  2  0  0  0  0  0  0  0  0  0]]\n"
     ]
    },
    {
     "data": {
      "text/plain": [
       "411"
      ]
     },
     "execution_count": 47,
     "metadata": {},
     "output_type": "execute_result"
    }
   ],
   "source": [
    "np.count_nonzero(X.toarray())"
   ]
  }
 ],
 "metadata": {
  "kernelspec": {
   "display_name": "Python 3",
   "language": "python",
   "name": "python3"
  },
  "language_info": {
   "codemirror_mode": {
    "name": "ipython",
    "version": 3
   },
   "file_extension": ".py",
   "mimetype": "text/x-python",
   "name": "python",
   "nbconvert_exporter": "python",
   "pygments_lexer": "ipython3",
   "version": "3.6.1"
  }
 },
 "nbformat": 4,
 "nbformat_minor": 2
}
