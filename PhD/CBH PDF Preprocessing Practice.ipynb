{
 "cells": [
  {
   "cell_type": "markdown",
   "metadata": {},
   "source": [
    "# Pre-processing: CBH"
   ]
  },
  {
   "cell_type": "markdown",
   "metadata": {},
   "source": [
    "## 1.\tExtract all the labels from all the pdf’s (whether they needed icEEG, not for surgery, location of EZ) and remove these labels from files: store labels and raw pdf’s separately both with the same keys"
   ]
  },
  {
   "cell_type": "markdown",
   "metadata": {},
   "source": [
    "### 1.1 using PyPDF2 reader to read and .getFields()"
   ]
  },
  {
   "cell_type": "code",
   "execution_count": 82,
   "metadata": {},
   "outputs": [
    {
     "name": "stdout",
     "output_type": "stream",
     "text": [
      "number of pages = 1\n",
      "\n",
      "\n",
      "\n",
      ".getFields()=the following dictionary\n",
      " {'Given Name Text Box': {'/FT': '/Tx', '/T': 'Given Name Text Box', '/TU': 'First name', '/V': 'Kosar', '/DV': ''}, 'Family Name Text Box': {'/FT': '/Tx', '/T': 'Family Name Text Box', '/TU': 'Last name', '/V': 'Pedram', '/DV': ''}, 'Address 1 Text Box': {'/FT': '/Tx', '/T': 'Address 1 Text Box', '/V': 'Flat 1', '/DV': ''}, 'House nr Text Box': {'/FT': '/Tx', '/T': 'House nr Text Box', '/TU': 'House and floor', '/V': '', '/DV': ''}, 'Address 2 Text Box': {'/FT': '/Tx', '/T': 'Address 2 Text Box', '/V': '', '/DV': ''}, 'Postcode Text Box': {'/FT': '/Tx', '/T': 'Postcode Text Box', '/V': '', '/DV': ''}, 'City Text Box': {'/FT': '/Tx', '/T': 'City Text Box', '/V': '', '/DV': ''}, 'Country Combo Box': {'/FT': '/Ch', '/T': 'Country Combo Box', '/TU': 'Use selection or write country name', '/Ff': 393216, '/V': '', '/DV': ''}, 'Gender List Box': {'/FT': '/Ch', '/T': 'Gender List Box', '/TU': 'Select from list', '/Ff': 131072, '/V': 'Woman', '/DV': 'Man'}, 'Height Formatted Field': {'/FT': '/Tx', '/T': 'Height Formatted Field', '/TU': 'Value from 40 to 250 cm', '/V': '165', '/DV': '150'}, 'Driving License Check Box': {'/FT': '/Btn', '/T': 'Driving License Check Box', '/TU': 'Car driving license', '/V': '/Yes', '/DV': '/Off'}, 'Language 1 Check Box': {'/FT': '/Btn', '/T': 'Language 1 Check Box', '/V': '/Off', '/DV': '/Off'}, 'Language 2 Check Box': {'/FT': '/Btn', '/T': 'Language 2 Check Box', '/V': '/Yes', '/DV': '/Yes'}, 'Language 3 Check Box': {'/FT': '/Btn', '/T': 'Language 3 Check Box', '/V': '/Off', '/DV': '/Off'}, 'Language 4 Check Box': {'/FT': '/Btn', '/T': 'Language 4 Check Box', '/V': '/Off', '/DV': '/Off'}, 'Language 5 Check Box': {'/FT': '/Btn', '/T': 'Language 5 Check Box', '/V': '/Off', '/DV': '/Off'}, 'Favourite Colour List Box': {'/FT': '/Ch', '/T': 'Favourite Colour List Box', '/TU': 'Select from colour spectrum', '/Ff': 131072, '/V': 'Red', '/DV': 'Red'}}\n"
     ]
    }
   ],
   "source": [
    "import numpy as np\n",
    "from sklearn.feature_extraction.text import CountVectorizer\n",
    "\n",
    "# Objective 1\n",
    "#  can try doing it under fit_transform method with iterable raw_documents\n",
    "\n",
    "\n",
    "## this does work only for normal txt files\n",
    "    # text_file1 = open(\"C:/ali's code/Parashkev/marvasti_readme.txt\", \"r\")\n",
    "    # list1 = text_file1.read()\n",
    "    # text_file1.close()\n",
    "\n",
    "    # text_file2 = open(\"C:/ali's code/Parashkev/specialtycode.txt\", \"r\")\n",
    "    # list2 = text_file2.read()\n",
    "    # text_file2.close()\n",
    "\n",
    "    # #corpus = [list1, list2]\n",
    "    # corpus = [list2]\n",
    "# #\n",
    "\n",
    "\n",
    "\n",
    "## this doesn't work as not a pdfreader\n",
    "    # openpdf = open(\"C:/Users/Ali/Desktop/From_Picture_to_Proton.pdf\", \"rb\")\n",
    "    # corpus = openpdf.read()\n",
    "    # openpdf.close()\n",
    "\n",
    "\n",
    "import PyPDF2\n",
    "pdf_file = open(\"C:/Users/ali_m/AnacondaProjects/PhD/test pdfs/PDF_form_example.pdf\", \"rb\")\n",
    "    #pdf_file = open(\"test pdfs/PDF_form_example\", \"rb\")\n",
    "read_pdf = PyPDF2.PdfFileReader(pdf_file)\n",
    "number_of_pages = read_pdf.getNumPages()\n",
    "print ('number of pages =', number_of_pages)\n",
    "\n",
    "pdf_form_data = read_pdf.getFormTextFields()\n",
    "#print (pdf_form_data)\n",
    "#PyPDF2.getFormTextFields()\n",
    "    #Retrieves form fields from the document with textual data (inputs, dropdowns)\n",
    "    \n",
    "pdf_form_data2 = read_pdf.getFields()    \n",
    "print (\"\\n\\n\\n.getFields()=the following dictionary\\n\", pdf_form_data2)\n",
    "pdf_file.close()    \n",
    "## getFormTextFields() works as pdf form reader but doesn't read the drop down menus or tick boxes    \n",
    "## whereas getFields() gets all the data but needs cleaning up\n",
    "\n"
   ]
  },
  {
   "cell_type": "markdown",
   "metadata": {},
   "source": [
    "### 1.2 here we read a specific field (i.e. label e.g. EZ) from the PDF"
   ]
  },
  {
   "cell_type": "markdown",
   "metadata": {},
   "source": [
    "say I am interested in guessing the *gender* from the *name*"
   ]
  },
  {
   "cell_type": "code",
   "execution_count": 76,
   "metadata": {},
   "outputs": [
    {
     "name": "stdout",
     "output_type": "stream",
     "text": [
      "Woman\n"
     ]
    }
   ],
   "source": [
    "\n",
    "pdf_form_data2_genderlabel = (pdf_form_data2['Gender List Box']['/V']) #store this in 1.4 as a file\n",
    "\n",
    "print (pdf_form_data2_genderlabel)\n"
   ]
  },
  {
   "cell_type": "markdown",
   "metadata": {},
   "source": [
    "### 1.3 here we will remove this label from the file and store both the label and original file (minus label) as new objects (Extract labels)"
   ]
  },
  {
   "cell_type": "code",
   "execution_count": 86,
   "metadata": {},
   "outputs": [
    {
     "ename": "TypeError",
     "evalue": "'NoneType' object is not subscriptable",
     "output_type": "error",
     "traceback": [
      "\u001b[1;31m---------------------------------------------------------------------------\u001b[0m",
      "\u001b[1;31mTypeError\u001b[0m                                 Traceback (most recent call last)",
      "\u001b[1;32m<ipython-input-86-60c9e3b00fe4>\u001b[0m in \u001b[0;36m<module>\u001b[1;34m()\u001b[0m\n\u001b[0;32m      2\u001b[0m \u001b[0mpdf_form_data2_removedlabel\u001b[0m \u001b[1;33m=\u001b[0m \u001b[0mpdf_form_data2\u001b[0m\u001b[1;33m\u001b[0m\u001b[0m\n\u001b[0;32m      3\u001b[0m \u001b[0mpdf_form_data2_GENDERlabel\u001b[0m \u001b[1;33m=\u001b[0m \u001b[0mpdf_form_data2_removedlabel\u001b[0m\u001b[1;33m.\u001b[0m\u001b[0mpop\u001b[0m\u001b[1;33m(\u001b[0m\u001b[1;34m'Gender List Box'\u001b[0m\u001b[1;33m,\u001b[0m \u001b[1;32mNone\u001b[0m\u001b[1;33m)\u001b[0m\u001b[1;33m\u001b[0m\u001b[0m\n\u001b[1;32m----> 4\u001b[1;33m \u001b[0mpdf_form_data2_GENDERlabel\u001b[0m \u001b[1;33m=\u001b[0m \u001b[0mpdf_form_data2_GENDERlabel\u001b[0m\u001b[1;33m[\u001b[0m\u001b[1;34m'/V'\u001b[0m\u001b[1;33m]\u001b[0m\u001b[1;33m\u001b[0m\u001b[0m\n\u001b[0m\u001b[0;32m      5\u001b[0m \u001b[1;31m# can use either my_dict.pop('key', None) or del myDict['key']\u001b[0m\u001b[1;33m\u001b[0m\u001b[1;33m\u001b[0m\u001b[0m\n",
      "\u001b[1;31mTypeError\u001b[0m: 'NoneType' object is not subscriptable"
     ]
    }
   ],
   "source": [
    "#first copy the dict() object so as not to replace the original pdf_form_data2 = pdffilereader.getfields()\n",
    "pdf_form_data2_removedlabel = pdf_form_data2 \n",
    "pdf_form_data2_GENDERlabel = pdf_form_data2_removedlabel.pop('Gender List Box', None)\n",
    "pdf_form_data2_GENDERlabel = pdf_form_data2_GENDERlabel['/V']\n",
    "# can use either my_dict.pop('key', None) or del myDict['key']\n"
   ]
  },
  {
   "cell_type": "markdown",
   "metadata": {},
   "source": [
    "## above is problematic as the pdf_form_data2 is being replaced when the label is being removed. need to create new \n",
    "## memory address for pdf_form_data2_removedlabel"
   ]
  },
  {
   "cell_type": "code",
   "execution_count": 85,
   "metadata": {},
   "outputs": [
    {
     "name": "stdout",
     "output_type": "stream",
     "text": [
      "{'Given Name Text Box': {'/FT': '/Tx', '/T': 'Given Name Text Box', '/TU': 'First name', '/V': 'Kosar', '/DV': ''}, 'Family Name Text Box': {'/FT': '/Tx', '/T': 'Family Name Text Box', '/TU': 'Last name', '/V': 'Pedram', '/DV': ''}, 'Address 1 Text Box': {'/FT': '/Tx', '/T': 'Address 1 Text Box', '/V': 'Flat 1', '/DV': ''}, 'House nr Text Box': {'/FT': '/Tx', '/T': 'House nr Text Box', '/TU': 'House and floor', '/V': '', '/DV': ''}, 'Address 2 Text Box': {'/FT': '/Tx', '/T': 'Address 2 Text Box', '/V': '', '/DV': ''}, 'Postcode Text Box': {'/FT': '/Tx', '/T': 'Postcode Text Box', '/V': '', '/DV': ''}, 'City Text Box': {'/FT': '/Tx', '/T': 'City Text Box', '/V': '', '/DV': ''}, 'Country Combo Box': {'/FT': '/Ch', '/T': 'Country Combo Box', '/TU': 'Use selection or write country name', '/Ff': 393216, '/V': '', '/DV': ''}, 'Height Formatted Field': {'/FT': '/Tx', '/T': 'Height Formatted Field', '/TU': 'Value from 40 to 250 cm', '/V': '165', '/DV': '150'}, 'Driving License Check Box': {'/FT': '/Btn', '/T': 'Driving License Check Box', '/TU': 'Car driving license', '/V': '/Yes', '/DV': '/Off'}, 'Language 1 Check Box': {'/FT': '/Btn', '/T': 'Language 1 Check Box', '/V': '/Off', '/DV': '/Off'}, 'Language 2 Check Box': {'/FT': '/Btn', '/T': 'Language 2 Check Box', '/V': '/Yes', '/DV': '/Yes'}, 'Language 3 Check Box': {'/FT': '/Btn', '/T': 'Language 3 Check Box', '/V': '/Off', '/DV': '/Off'}, 'Language 4 Check Box': {'/FT': '/Btn', '/T': 'Language 4 Check Box', '/V': '/Off', '/DV': '/Off'}, 'Language 5 Check Box': {'/FT': '/Btn', '/T': 'Language 5 Check Box', '/V': '/Off', '/DV': '/Off'}, 'Favourite Colour List Box': {'/FT': '/Ch', '/T': 'Favourite Colour List Box', '/TU': 'Select from colour spectrum', '/Ff': 131072, '/V': 'Red', '/DV': 'Red'}}\n",
      "\n",
      "\n",
      " False\n",
      "\n",
      "\n",
      " False\n",
      "\n",
      "\n",
      " Woman\n"
     ]
    }
   ],
   "source": [
    "# SANITY CHECK\n",
    "\n",
    "#sanity check this is the same but removed label therefore the first should read true and the second should read false\n",
    "print (pdf_form_data2_removedlabel) \n",
    "print ('\\n\\n', \"gender\" in str(pdf_form_data2).lower())\n",
    "print ('\\n\\n', \"gender\" in str(pdf_form_data2_removedlabel).lower())\n",
    "print ('\\n\\n',pdf_form_data2_GENDERlabel)  # sanity check this is the same as pdf_form_data2_genderlabel as in 1.2"
   ]
  },
  {
   "cell_type": "code",
   "execution_count": 60,
   "metadata": {},
   "outputs": [
    {
     "name": "stdout",
     "output_type": "stream",
     "text": [
      "{'Given Name Text Box': {'/FT': '/Tx', '/T': 'Given Name Text Box', '/TU': 'First name', '/V': 'Kosar', '/DV': ''}, 'Family Name Text Box': {'/FT': '/Tx', '/T': 'Family Name Text Box', '/TU': 'Last name', '/V': 'Pedram', '/DV': ''}, 'Address 1 Text Box': {'/FT': '/Tx', '/T': 'Address 1 Text Box', '/V': 'Flat 1', '/DV': ''}, 'House nr Text Box': {'/FT': '/Tx', '/T': 'House nr Text Box', '/TU': 'House and floor', '/V': '', '/DV': ''}, 'Address 2 Text Box': {'/FT': '/Tx', '/T': 'Address 2 Text Box', '/V': '', '/DV': ''}, 'Postcode Text Box': {'/FT': '/Tx', '/T': 'Postcode Text Box', '/V': '', '/DV': ''}, 'City Text Box': {'/FT': '/Tx', '/T': 'City Text Box', '/V': '', '/DV': ''}, 'Country Combo Box': {'/FT': '/Ch', '/T': 'Country Combo Box', '/TU': 'Use selection or write country name', '/Ff': 393216, '/V': '', '/DV': ''}, 'Height Formatted Field': {'/FT': '/Tx', '/T': 'Height Formatted Field', '/TU': 'Value from 40 to 250 cm', '/V': '165', '/DV': '150'}, 'Driving License Check Box': {'/FT': '/Btn', '/T': 'Driving License Check Box', '/TU': 'Car driving license', '/V': '/Yes', '/DV': '/Off'}, 'Language 1 Check Box': {'/FT': '/Btn', '/T': 'Language 1 Check Box', '/V': '/Off', '/DV': '/Off'}, 'Language 2 Check Box': {'/FT': '/Btn', '/T': 'Language 2 Check Box', '/V': '/Yes', '/DV': '/Yes'}, 'Language 3 Check Box': {'/FT': '/Btn', '/T': 'Language 3 Check Box', '/V': '/Off', '/DV': '/Off'}, 'Language 4 Check Box': {'/FT': '/Btn', '/T': 'Language 4 Check Box', '/V': '/Off', '/DV': '/Off'}, 'Language 5 Check Box': {'/FT': '/Btn', '/T': 'Language 5 Check Box', '/V': '/Off', '/DV': '/Off'}, 'Favourite Colour List Box': {'/FT': '/Ch', '/T': 'Favourite Colour List Box', '/TU': 'Select from colour spectrum', '/Ff': 131072, '/V': 'Red', '/DV': 'Red'}}\n"
     ]
    }
   ],
   "source": [
    "print (pdf_form_data2)"
   ]
  },
  {
   "cell_type": "markdown",
   "metadata": {},
   "source": [
    "### 1.4 now we will store the label as a file"
   ]
  },
  {
   "cell_type": "code",
   "execution_count": null,
   "metadata": {},
   "outputs": [],
   "source": []
  },
  {
   "cell_type": "code",
   "execution_count": null,
   "metadata": {},
   "outputs": [],
   "source": []
  },
  {
   "cell_type": "markdown",
   "metadata": {},
   "source": [
    "# 2.\tLoad all pdfs into corpus (now have an access-derived file, individual unlabelled pdfs, labels, and one text file with all the pdf’s)\n",
    "# 3.\tInspect and clean data\n",
    "\n",
    "# Now Q is what to do wrt NLP?\n",
    "# Do I do 4,5,6 below?\n",
    "\n",
    "# 4.\tExtract all features using sklearn from corpus\n",
    "# 5.\tThen populate the feature matrix individually for each unlabelled pdf?\n",
    "# 6.\tThen run ML algorithm\n"
   ]
  },
  {
   "cell_type": "code",
   "execution_count": null,
   "metadata": {},
   "outputs": [],
   "source": [
    "\n",
    "    \n",
    "# (tokenization, counting and normalization) is called the Bag of Words or “Bag of n-grams” representation. \n",
    "# Documents are described by word occurrences while completely ignoring the relative position information of \n",
    "# the words in the document. \n",
    "# Need to open all files then normalisation can occur. CountVectorizer does not do normalisation.\n",
    "# Default looks at only words of 2 letters of more (R / L omited)\n",
    "# Can change n-gram range and vocabulary of CountVectorizer"
   ]
  }
 ],
 "metadata": {
  "kernelspec": {
   "display_name": "Python 3",
   "language": "python",
   "name": "python3"
  },
  "language_info": {
   "codemirror_mode": {
    "name": "ipython",
    "version": 3
   },
   "file_extension": ".py",
   "mimetype": "text/x-python",
   "name": "python",
   "nbconvert_exporter": "python",
   "pygments_lexer": "ipython3",
   "version": "3.6.6"
  }
 },
 "nbformat": 4,
 "nbformat_minor": 2
}
